{
  "nbformat": 4,
  "nbformat_minor": 0,
  "metadata": {
    "colab": {
      "provenance": []
    },
    "kernelspec": {
      "name": "python3",
      "display_name": "Python 3"
    },
    "language_info": {
      "name": "python"
    }
  },
  "cells": [
    {
      "cell_type": "markdown",
      "source": [
        "# **1. Perkenalan Dataset**\n"
      ],
      "metadata": {
        "id": "kZLRMFl0JyyQ"
      }
    },
    {
      "cell_type": "markdown",
      "source": [
        "**Spam email Dataset**  \n",
        "\n",
        "Dataset ini berisi kumpulan pesan teks email, yang diberi label sebagai spam atau tidak spam. Setiap pesan email dilabeli dengan label biner, di mana \"1\" menunjukkan bahwa email tersebut adalah spam, dan \"0\" menunjukkan bahwa email tersebut tidak spam (ham). Dataset ini dimaksudkan untuk digunakan dalam pelatihan dan evaluasi model klasifikasi email spam.\n",
        "\n",
        "Sumber: [Kaggle](https://www.kaggle.com/datasets/jackksoncsie/spam-email-dataset)"
      ],
      "metadata": {
        "id": "hssSDn-5n3HR"
      }
    },
    {
      "cell_type": "markdown",
      "source": [
        "# **2. Import Library**"
      ],
      "metadata": {
        "id": "fKADPWcFKlj3"
      }
    },
    {
      "cell_type": "markdown",
      "source": [
        "Pada tahap ini, Anda perlu mengimpor beberapa pustaka (library) Python yang dibutuhkan untuk analisis data dan pembangunan model machine learning atau deep learning."
      ],
      "metadata": {
        "id": "LgA3ERnVn84N"
      }
    },
    {
      "cell_type": "code",
      "source": [
        "import numpy as np\n",
        "import pandas as pd\n",
        "import matplotlib.pyplot as plt\n",
        "import seaborn as sns\n",
        "import nltk\n",
        "import tensorflow as tf\n",
        "from sklearn.feature_extraction.text import TfidfVectorizer\n",
        "from tensorflow.keras.preprocessing.text import Tokenizer\n",
        "from tensorflow.keras.preprocessing.sequence import pad_sequences\n",
        "from nltk.corpus import stopwords"
      ],
      "metadata": {
        "id": "cBvOSXZS1K2K"
      },
      "execution_count": 240,
      "outputs": []
    },
    {
      "cell_type": "markdown",
      "source": [
        "# **3. Memuat Dataset**"
      ],
      "metadata": {
        "id": "f3YIEnAFKrKL"
      }
    },
    {
      "cell_type": "markdown",
      "source": [
        "Pada tahap ini, Anda perlu memuat dataset ke dalam notebook. Jika dataset dalam format CSV, Anda bisa menggunakan pustaka pandas untuk membacanya. Pastikan untuk mengecek beberapa baris awal dataset untuk memahami strukturnya dan memastikan data telah dimuat dengan benar.\n",
        "\n",
        "Jika dataset berada di Google Drive, pastikan Anda menghubungkan Google Drive ke Colab terlebih dahulu. Setelah dataset berhasil dimuat, langkah berikutnya adalah memeriksa kesesuaian data dan siap untuk dianalisis lebih lanjut.\n",
        "\n",
        "Jika dataset berupa unstructured data, silakan sesuaikan dengan format seperti kelas Machine Learning Pengembangan atau Machine Learning Terapan"
      ],
      "metadata": {
        "id": "Ey3ItwTen_7E"
      }
    },
    {
      "cell_type": "code",
      "source": [
        "df = pd.read_csv(\"spam ham emails.csv\")"
      ],
      "metadata": {
        "id": "GHCGNTyrM5fS"
      },
      "execution_count": 241,
      "outputs": []
    },
    {
      "cell_type": "markdown",
      "source": [
        "# **4. Exploratory Data Analysis (EDA)**\n",
        "\n",
        "Pada tahap ini, Anda akan melakukan **Exploratory Data Analysis (EDA)** untuk memahami karakteristik dataset.\n",
        "\n",
        "Tujuan dari EDA adalah untuk memperoleh wawasan awal yang mendalam mengenai data dan menentukan langkah selanjutnya dalam analisis atau pemodelan."
      ],
      "metadata": {
        "id": "bgZkbJLpK9UR"
      }
    },
    {
      "cell_type": "code",
      "source": [
        "df.head()"
      ],
      "metadata": {
        "id": "dKeejtvxM6X1",
        "colab": {
          "base_uri": "https://localhost:8080/",
          "height": 206
        },
        "outputId": "97e9dc3e-d925-456c-a5ca-1b951aab5ff0"
      },
      "execution_count": 242,
      "outputs": [
        {
          "output_type": "execute_result",
          "data": {
            "text/plain": [
              "                                                text  spam\n",
              "0  Subject: naturally irresistible your corporate...     1\n",
              "1  Subject: the stock trading gunslinger  fanny i...     1\n",
              "2  Subject: unbelievable new homes made easy  im ...     1\n",
              "3  Subject: 4 color printing special  request add...     1\n",
              "4  Subject: do not have money , get software cds ...     1"
            ],
            "text/html": [
              "\n",
              "  <div id=\"df-c5126ce8-1219-4dd9-a4e0-5dd0606d7e80\" class=\"colab-df-container\">\n",
              "    <div>\n",
              "<style scoped>\n",
              "    .dataframe tbody tr th:only-of-type {\n",
              "        vertical-align: middle;\n",
              "    }\n",
              "\n",
              "    .dataframe tbody tr th {\n",
              "        vertical-align: top;\n",
              "    }\n",
              "\n",
              "    .dataframe thead th {\n",
              "        text-align: right;\n",
              "    }\n",
              "</style>\n",
              "<table border=\"1\" class=\"dataframe\">\n",
              "  <thead>\n",
              "    <tr style=\"text-align: right;\">\n",
              "      <th></th>\n",
              "      <th>text</th>\n",
              "      <th>spam</th>\n",
              "    </tr>\n",
              "  </thead>\n",
              "  <tbody>\n",
              "    <tr>\n",
              "      <th>0</th>\n",
              "      <td>Subject: naturally irresistible your corporate...</td>\n",
              "      <td>1</td>\n",
              "    </tr>\n",
              "    <tr>\n",
              "      <th>1</th>\n",
              "      <td>Subject: the stock trading gunslinger  fanny i...</td>\n",
              "      <td>1</td>\n",
              "    </tr>\n",
              "    <tr>\n",
              "      <th>2</th>\n",
              "      <td>Subject: unbelievable new homes made easy  im ...</td>\n",
              "      <td>1</td>\n",
              "    </tr>\n",
              "    <tr>\n",
              "      <th>3</th>\n",
              "      <td>Subject: 4 color printing special  request add...</td>\n",
              "      <td>1</td>\n",
              "    </tr>\n",
              "    <tr>\n",
              "      <th>4</th>\n",
              "      <td>Subject: do not have money , get software cds ...</td>\n",
              "      <td>1</td>\n",
              "    </tr>\n",
              "  </tbody>\n",
              "</table>\n",
              "</div>\n",
              "    <div class=\"colab-df-buttons\">\n",
              "\n",
              "  <div class=\"colab-df-container\">\n",
              "    <button class=\"colab-df-convert\" onclick=\"convertToInteractive('df-c5126ce8-1219-4dd9-a4e0-5dd0606d7e80')\"\n",
              "            title=\"Convert this dataframe to an interactive table.\"\n",
              "            style=\"display:none;\">\n",
              "\n",
              "  <svg xmlns=\"http://www.w3.org/2000/svg\" height=\"24px\" viewBox=\"0 -960 960 960\">\n",
              "    <path d=\"M120-120v-720h720v720H120Zm60-500h600v-160H180v160Zm220 220h160v-160H400v160Zm0 220h160v-160H400v160ZM180-400h160v-160H180v160Zm440 0h160v-160H620v160ZM180-180h160v-160H180v160Zm440 0h160v-160H620v160Z\"/>\n",
              "  </svg>\n",
              "    </button>\n",
              "\n",
              "  <style>\n",
              "    .colab-df-container {\n",
              "      display:flex;\n",
              "      gap: 12px;\n",
              "    }\n",
              "\n",
              "    .colab-df-convert {\n",
              "      background-color: #E8F0FE;\n",
              "      border: none;\n",
              "      border-radius: 50%;\n",
              "      cursor: pointer;\n",
              "      display: none;\n",
              "      fill: #1967D2;\n",
              "      height: 32px;\n",
              "      padding: 0 0 0 0;\n",
              "      width: 32px;\n",
              "    }\n",
              "\n",
              "    .colab-df-convert:hover {\n",
              "      background-color: #E2EBFA;\n",
              "      box-shadow: 0px 1px 2px rgba(60, 64, 67, 0.3), 0px 1px 3px 1px rgba(60, 64, 67, 0.15);\n",
              "      fill: #174EA6;\n",
              "    }\n",
              "\n",
              "    .colab-df-buttons div {\n",
              "      margin-bottom: 4px;\n",
              "    }\n",
              "\n",
              "    [theme=dark] .colab-df-convert {\n",
              "      background-color: #3B4455;\n",
              "      fill: #D2E3FC;\n",
              "    }\n",
              "\n",
              "    [theme=dark] .colab-df-convert:hover {\n",
              "      background-color: #434B5C;\n",
              "      box-shadow: 0px 1px 3px 1px rgba(0, 0, 0, 0.15);\n",
              "      filter: drop-shadow(0px 1px 2px rgba(0, 0, 0, 0.3));\n",
              "      fill: #FFFFFF;\n",
              "    }\n",
              "  </style>\n",
              "\n",
              "    <script>\n",
              "      const buttonEl =\n",
              "        document.querySelector('#df-c5126ce8-1219-4dd9-a4e0-5dd0606d7e80 button.colab-df-convert');\n",
              "      buttonEl.style.display =\n",
              "        google.colab.kernel.accessAllowed ? 'block' : 'none';\n",
              "\n",
              "      async function convertToInteractive(key) {\n",
              "        const element = document.querySelector('#df-c5126ce8-1219-4dd9-a4e0-5dd0606d7e80');\n",
              "        const dataTable =\n",
              "          await google.colab.kernel.invokeFunction('convertToInteractive',\n",
              "                                                    [key], {});\n",
              "        if (!dataTable) return;\n",
              "\n",
              "        const docLinkHtml = 'Like what you see? Visit the ' +\n",
              "          '<a target=\"_blank\" href=https://colab.research.google.com/notebooks/data_table.ipynb>data table notebook</a>'\n",
              "          + ' to learn more about interactive tables.';\n",
              "        element.innerHTML = '';\n",
              "        dataTable['output_type'] = 'display_data';\n",
              "        await google.colab.output.renderOutput(dataTable, element);\n",
              "        const docLink = document.createElement('div');\n",
              "        docLink.innerHTML = docLinkHtml;\n",
              "        element.appendChild(docLink);\n",
              "      }\n",
              "    </script>\n",
              "  </div>\n",
              "\n",
              "\n",
              "    <div id=\"df-8d4fee0a-1bdc-458e-a7d9-02ce756ec69d\">\n",
              "      <button class=\"colab-df-quickchart\" onclick=\"quickchart('df-8d4fee0a-1bdc-458e-a7d9-02ce756ec69d')\"\n",
              "                title=\"Suggest charts\"\n",
              "                style=\"display:none;\">\n",
              "\n",
              "<svg xmlns=\"http://www.w3.org/2000/svg\" height=\"24px\"viewBox=\"0 0 24 24\"\n",
              "     width=\"24px\">\n",
              "    <g>\n",
              "        <path d=\"M19 3H5c-1.1 0-2 .9-2 2v14c0 1.1.9 2 2 2h14c1.1 0 2-.9 2-2V5c0-1.1-.9-2-2-2zM9 17H7v-7h2v7zm4 0h-2V7h2v10zm4 0h-2v-4h2v4z\"/>\n",
              "    </g>\n",
              "</svg>\n",
              "      </button>\n",
              "\n",
              "<style>\n",
              "  .colab-df-quickchart {\n",
              "      --bg-color: #E8F0FE;\n",
              "      --fill-color: #1967D2;\n",
              "      --hover-bg-color: #E2EBFA;\n",
              "      --hover-fill-color: #174EA6;\n",
              "      --disabled-fill-color: #AAA;\n",
              "      --disabled-bg-color: #DDD;\n",
              "  }\n",
              "\n",
              "  [theme=dark] .colab-df-quickchart {\n",
              "      --bg-color: #3B4455;\n",
              "      --fill-color: #D2E3FC;\n",
              "      --hover-bg-color: #434B5C;\n",
              "      --hover-fill-color: #FFFFFF;\n",
              "      --disabled-bg-color: #3B4455;\n",
              "      --disabled-fill-color: #666;\n",
              "  }\n",
              "\n",
              "  .colab-df-quickchart {\n",
              "    background-color: var(--bg-color);\n",
              "    border: none;\n",
              "    border-radius: 50%;\n",
              "    cursor: pointer;\n",
              "    display: none;\n",
              "    fill: var(--fill-color);\n",
              "    height: 32px;\n",
              "    padding: 0;\n",
              "    width: 32px;\n",
              "  }\n",
              "\n",
              "  .colab-df-quickchart:hover {\n",
              "    background-color: var(--hover-bg-color);\n",
              "    box-shadow: 0 1px 2px rgba(60, 64, 67, 0.3), 0 1px 3px 1px rgba(60, 64, 67, 0.15);\n",
              "    fill: var(--button-hover-fill-color);\n",
              "  }\n",
              "\n",
              "  .colab-df-quickchart-complete:disabled,\n",
              "  .colab-df-quickchart-complete:disabled:hover {\n",
              "    background-color: var(--disabled-bg-color);\n",
              "    fill: var(--disabled-fill-color);\n",
              "    box-shadow: none;\n",
              "  }\n",
              "\n",
              "  .colab-df-spinner {\n",
              "    border: 2px solid var(--fill-color);\n",
              "    border-color: transparent;\n",
              "    border-bottom-color: var(--fill-color);\n",
              "    animation:\n",
              "      spin 1s steps(1) infinite;\n",
              "  }\n",
              "\n",
              "  @keyframes spin {\n",
              "    0% {\n",
              "      border-color: transparent;\n",
              "      border-bottom-color: var(--fill-color);\n",
              "      border-left-color: var(--fill-color);\n",
              "    }\n",
              "    20% {\n",
              "      border-color: transparent;\n",
              "      border-left-color: var(--fill-color);\n",
              "      border-top-color: var(--fill-color);\n",
              "    }\n",
              "    30% {\n",
              "      border-color: transparent;\n",
              "      border-left-color: var(--fill-color);\n",
              "      border-top-color: var(--fill-color);\n",
              "      border-right-color: var(--fill-color);\n",
              "    }\n",
              "    40% {\n",
              "      border-color: transparent;\n",
              "      border-right-color: var(--fill-color);\n",
              "      border-top-color: var(--fill-color);\n",
              "    }\n",
              "    60% {\n",
              "      border-color: transparent;\n",
              "      border-right-color: var(--fill-color);\n",
              "    }\n",
              "    80% {\n",
              "      border-color: transparent;\n",
              "      border-right-color: var(--fill-color);\n",
              "      border-bottom-color: var(--fill-color);\n",
              "    }\n",
              "    90% {\n",
              "      border-color: transparent;\n",
              "      border-bottom-color: var(--fill-color);\n",
              "    }\n",
              "  }\n",
              "</style>\n",
              "\n",
              "      <script>\n",
              "        async function quickchart(key) {\n",
              "          const quickchartButtonEl =\n",
              "            document.querySelector('#' + key + ' button');\n",
              "          quickchartButtonEl.disabled = true;  // To prevent multiple clicks.\n",
              "          quickchartButtonEl.classList.add('colab-df-spinner');\n",
              "          try {\n",
              "            const charts = await google.colab.kernel.invokeFunction(\n",
              "                'suggestCharts', [key], {});\n",
              "          } catch (error) {\n",
              "            console.error('Error during call to suggestCharts:', error);\n",
              "          }\n",
              "          quickchartButtonEl.classList.remove('colab-df-spinner');\n",
              "          quickchartButtonEl.classList.add('colab-df-quickchart-complete');\n",
              "        }\n",
              "        (() => {\n",
              "          let quickchartButtonEl =\n",
              "            document.querySelector('#df-8d4fee0a-1bdc-458e-a7d9-02ce756ec69d button');\n",
              "          quickchartButtonEl.style.display =\n",
              "            google.colab.kernel.accessAllowed ? 'block' : 'none';\n",
              "        })();\n",
              "      </script>\n",
              "    </div>\n",
              "\n",
              "    </div>\n",
              "  </div>\n"
            ],
            "application/vnd.google.colaboratory.intrinsic+json": {
              "type": "dataframe",
              "variable_name": "df",
              "summary": "{\n  \"name\": \"df\",\n  \"rows\": 5728,\n  \"fields\": [\n    {\n      \"column\": \"text\",\n      \"properties\": {\n        \"dtype\": \"string\",\n        \"num_unique_values\": 5695,\n        \"samples\": [\n          \"Subject: eprm article  hi vince ,  ?  as always , it was good to see you again in houston - we all enjoyed the meal  very much , the restaurant was a good choice .  ?  it ' s that time again i ' m afraid . can you pls cast your eye over the  attached ? and , if at all possible , get back to me in the next few days - i  have to deliver something to london by friday .  ?  how ' s the course going at rice ? not too much work i hope .  ?  best regards .  ?  chris .  ?  - eprm _ 09 _ fwd _ vol _ estimation . doc\",\n          \"Subject: fluid analysis  our customer speak volumes about our spur m product  \\\" i just wanted to write and thank you for spur - m .  i suffered from poor sperm count and motility . i found  your site and ordered spur - m fertility blend for men .  i have wondered for years what caused low semen and sperm  count , and how i could improve my fertility and help my wife  conceive . spur - m seems to have done just that ! thank you  for your support . \\\"  andrew h . , london , uk  \\\" spur - m really does help improve fertility and effectiveness  of sperm and semen motility . i used it for the past few months ,  and not only does it work - i also feel better to . i have  more energy . this is an excellent counter to low sperm count  and motility . i ' ll be buying more ! ! ! \\\"  franz k . , bonn , germany  http : / / findgoodstuffhere . com / spur /  for removing , pls go here  http : / / findgoodstuffhere . com / rm . php\",\n          \"Subject: re : liquids limits oct . 20  john :  i will be here most of the week , and am looking forward to working with niamh  c . i will also check the availability of people in vince k . group as well as  naveen andrews in ours .  regards  bjorn h .  john l nowlan  24 / 10 / 2000 10 : 32  to : bjorn hagelmann / hou / ect @ ect  cc : ted murphy / hou / ect @ ect  subject : re : liquids limits oct . 20  bjorn , niamh clarke is going to come to houston from mon afternoon to friday  next week to work on nvar . she developed var models for mitsubishi and has  lots of experience in this area . can you please provide her with the best  people we can from research and rac so we can try and get a better  understanding and more confidence in our model . i ' m sure you agree with me  that if my group is going to make any progress we need to get this sorted .  thanks in advance .  - - - - - - - - - - - - - - - - - - - - - - forwarded by john l nowlan / hou / ect on 10 / 24 / 2000 09 : 51  am - - - - - - - - - - - - - - - - - - - - - - - - - - -  from : bjorn hagelmann  10 / 24 / 2000 07 : 31 am  to : john l nowlan / hou / ect @ ect  cc : scott earnest / hou / ect @ ect  subject : re : liquids limits oct . 20  i think we need to sit down and talk about developing reporting that will  show the risk in the books . at this point and time it can be derived , but  only if you know what to look for . i would appreciate if you had some time to  do so .  regards  bjorn h  john l nowlan  23 / 10 / 2000 13 : 10  to : christian lebroc / corp / enron @ enron , scott earnest / hou / ect @ ect , bjorn  hagelmann / hou / ect @ ect  cc :  subject : re : liquids limits oct . 20  looking at these numbers i think the var model must be waaaaaaaaaay over  calcing something , most likely the spreads . the net and outright product  position are negligible . seems it would take one hell of a daily move to  loose 12 . 7 on these positions .\"\n        ],\n        \"semantic_type\": \"\",\n        \"description\": \"\"\n      }\n    },\n    {\n      \"column\": \"spam\",\n      \"properties\": {\n        \"dtype\": \"number\",\n        \"std\": 0,\n        \"min\": 0,\n        \"max\": 1,\n        \"num_unique_values\": 2,\n        \"samples\": [\n          0,\n          1\n        ],\n        \"semantic_type\": \"\",\n        \"description\": \"\"\n      }\n    }\n  ]\n}"
            }
          },
          "metadata": {},
          "execution_count": 242
        }
      ]
    },
    {
      "cell_type": "code",
      "source": [
        "df.info()"
      ],
      "metadata": {
        "colab": {
          "base_uri": "https://localhost:8080/"
        },
        "id": "-2wPha3E9r3V",
        "outputId": "31f639e5-433a-4374-d69c-1d70fe24b9a3"
      },
      "execution_count": 243,
      "outputs": [
        {
          "output_type": "stream",
          "name": "stdout",
          "text": [
            "<class 'pandas.core.frame.DataFrame'>\n",
            "RangeIndex: 5728 entries, 0 to 5727\n",
            "Data columns (total 2 columns):\n",
            " #   Column  Non-Null Count  Dtype \n",
            "---  ------  --------------  ----- \n",
            " 0   text    5728 non-null   object\n",
            " 1   spam    5728 non-null   int64 \n",
            "dtypes: int64(1), object(1)\n",
            "memory usage: 89.6+ KB\n"
          ]
        }
      ]
    },
    {
      "cell_type": "code",
      "source": [
        "print(\"Missing data pada dataset:\")\n",
        "print(df.isna().sum())"
      ],
      "metadata": {
        "colab": {
          "base_uri": "https://localhost:8080/"
        },
        "id": "La9tjoLPD4EA",
        "outputId": "f2305c74-1188-4f96-e56d-44e6ede9cbfa"
      },
      "execution_count": 244,
      "outputs": [
        {
          "output_type": "stream",
          "name": "stdout",
          "text": [
            "Missing data pada dataset:\n",
            "text    0\n",
            "spam    0\n",
            "dtype: int64\n"
          ]
        }
      ]
    },
    {
      "cell_type": "code",
      "source": [
        "print(\"Duplicated data pada dataset:\")\n",
        "print(df.duplicated().sum())"
      ],
      "metadata": {
        "colab": {
          "base_uri": "https://localhost:8080/"
        },
        "id": "u9lYvAQTED5h",
        "outputId": "dc872e74-ca6a-48a2-8aea-19eeba82defe"
      },
      "execution_count": 245,
      "outputs": [
        {
          "output_type": "stream",
          "name": "stdout",
          "text": [
            "Duplicated data pada dataset:\n",
            "33\n"
          ]
        }
      ]
    },
    {
      "cell_type": "code",
      "source": [
        "df['spam'].value_counts()"
      ],
      "metadata": {
        "colab": {
          "base_uri": "https://localhost:8080/",
          "height": 178
        },
        "id": "kiBHphjyGUh5",
        "outputId": "271dedb5-49aa-45f0-8f15-04d4d1a0419b"
      },
      "execution_count": 246,
      "outputs": [
        {
          "output_type": "execute_result",
          "data": {
            "text/plain": [
              "spam\n",
              "0    4360\n",
              "1    1368\n",
              "Name: count, dtype: int64"
            ],
            "text/html": [
              "<div>\n",
              "<style scoped>\n",
              "    .dataframe tbody tr th:only-of-type {\n",
              "        vertical-align: middle;\n",
              "    }\n",
              "\n",
              "    .dataframe tbody tr th {\n",
              "        vertical-align: top;\n",
              "    }\n",
              "\n",
              "    .dataframe thead th {\n",
              "        text-align: right;\n",
              "    }\n",
              "</style>\n",
              "<table border=\"1\" class=\"dataframe\">\n",
              "  <thead>\n",
              "    <tr style=\"text-align: right;\">\n",
              "      <th></th>\n",
              "      <th>count</th>\n",
              "    </tr>\n",
              "    <tr>\n",
              "      <th>spam</th>\n",
              "      <th></th>\n",
              "    </tr>\n",
              "  </thead>\n",
              "  <tbody>\n",
              "    <tr>\n",
              "      <th>0</th>\n",
              "      <td>4360</td>\n",
              "    </tr>\n",
              "    <tr>\n",
              "      <th>1</th>\n",
              "      <td>1368</td>\n",
              "    </tr>\n",
              "  </tbody>\n",
              "</table>\n",
              "</div><br><label><b>dtype:</b> int64</label>"
            ]
          },
          "metadata": {},
          "execution_count": 246
        }
      ]
    },
    {
      "cell_type": "code",
      "source": [
        "sns.countplot(x='spam', data=df, hue='spam', palette={0: 'green', 1: 'red'}, legend=False)\n",
        "plt.title('Distribution of Spam and Ham')\n",
        "plt.xticks([0, 1], ['Ham', 'Spam'])\n",
        "plt.show()"
      ],
      "metadata": {
        "colab": {
          "base_uri": "https://localhost:8080/",
          "height": 472
        },
        "id": "l5VwBnlpGdnu",
        "outputId": "e6ab08a0-3508-401f-df03-8dff77c421d1"
      },
      "execution_count": 247,
      "outputs": [
        {
          "output_type": "display_data",
          "data": {
            "text/plain": [
              "<Figure size 640x480 with 1 Axes>"
            ],
            "image/png": "[encoded data removed]"
          },
          "metadata": {}
        }
      ]
    },
    {
      "cell_type": "code",
      "source": [
        "plt.figure(figsize=(6, 6))\n",
        "plt.pie(df['spam'].value_counts(), labels=['Ham', 'Spam'], autopct='%1.1f%%', colors=['green', 'red'], startangle=90)\n",
        "plt.title('Distribution of Spam and Ham Emails (Pie Chart)')\n",
        "plt.axis('equal')\n",
        "plt.show()"
      ],
      "metadata": {
        "colab": {
          "base_uri": "https://localhost:8080/",
          "height": 521
        },
        "id": "G2eGtYfFH_fw",
        "outputId": "45f985bf-75f2-40d0-8350-aa6e7465efd9"
      },
      "execution_count": 248,
      "outputs": [
        {
          "output_type": "display_data",
          "data": {
            "text/plain": [
              "<Figure size 600x600 with 1 Axes>"
            ],
            "image/png": "[encoded data removed]"
          },
          "metadata": {}
        }
      ]
    },
    {
      "cell_type": "markdown",
      "source": [
        "# **5. Data Preprocessing**"
      ],
      "metadata": {
        "id": "cpgHfgnSK3ip"
      }
    },
    {
      "cell_type": "markdown",
      "source": [
        "Pada tahap ini, data preprocessing adalah langkah penting untuk memastikan kualitas data sebelum digunakan dalam model machine learning.\n",
        "\n",
        "Jika Anda menggunakan data teks, data mentah sering kali mengandung nilai kosong, duplikasi, atau rentang nilai yang tidak konsisten, yang dapat memengaruhi kinerja model. Oleh karena itu, proses ini bertujuan untuk membersihkan dan mempersiapkan data agar analisis berjalan optimal.\n",
        "\n",
        "Berikut adalah tahapan-tahapan yang bisa dilakukan, tetapi **tidak terbatas** pada:\n",
        "1. Menghapus atau Menangani Data Kosong (Missing Values)\n",
        "2. Menghapus Data Duplikat\n",
        "3. Normalisasi atau Standarisasi Fitur\n",
        "4. Deteksi dan Penanganan Outlier\n",
        "5. Encoding Data Kategorikal\n",
        "6. Binning (Pengelompokan Data)\n",
        "\n",
        "Cukup sesuaikan dengan karakteristik data yang kamu gunakan yah. Khususnya ketika kami menggunakan data tidak terstruktur."
      ],
      "metadata": {
        "id": "COf8KUPXLg5r"
      }
    },
    {
      "cell_type": "code",
      "source": [
        "df = df.drop_duplicates()\n",
        "\n",
        "print(\"Duplicated data pada dataset:\")\n",
        "print(df.duplicated().sum())"
      ],
      "metadata": {
        "colab": {
          "base_uri": "https://localhost:8080/"
        },
        "id": "1VCofD51L3sR",
        "outputId": "c1475fbe-5c7d-428f-a9d9-98654a0627c8"
      },
      "execution_count": 249,
      "outputs": [
        {
          "output_type": "stream",
          "name": "stdout",
          "text": [
            "Duplicated data pada dataset:\n",
            "0\n"
          ]
        }
      ]
    },
    {
      "cell_type": "code",
      "source": [
        "n = df['spam'].value_counts().min()\n",
        "df_balanced = df.sample(frac=1).groupby('spam').head(n)\n",
        "\n",
        "print(df_balanced['spam'].value_counts())"
      ],
      "metadata": {
        "colab": {
          "base_uri": "https://localhost:8080/"
        },
        "id": "uVm06EiKJq0F",
        "outputId": "00c935d4-0658-4582-a3fa-f18b6207586c"
      },
      "execution_count": 250,
      "outputs": [
        {
          "output_type": "stream",
          "name": "stdout",
          "text": [
            "spam\n",
            "0    1368\n",
            "1    1368\n",
            "Name: count, dtype: int64\n"
          ]
        }
      ]
    },
    {
      "cell_type": "code",
      "source": [
        "sns.countplot(x='spam', data=df_balanced, hue='spam', palette={0: 'green', 1: 'red'}, legend=False)\n",
        "plt.title('Distribution of Spam and Ham')\n",
        "plt.xticks([0, 1], ['Ham', 'Spam'])\n",
        "plt.show()"
      ],
      "metadata": {
        "colab": {
          "base_uri": "https://localhost:8080/",
          "height": 472
        },
        "id": "TyfWBmUoKTi9",
        "outputId": "64013099-197c-495a-d67e-667a91f4ad7b"
      },
      "execution_count": 251,
      "outputs": [
        {
          "output_type": "display_data",
          "data": {
            "text/plain": [
              "<Figure size 640x480 with 1 Axes>"
            ],
            "image/png": "[encoded data removed]"
          },
          "metadata": {}
        }
      ]
    },
    {
      "cell_type": "code",
      "source": [
        "plt.figure(figsize=(6, 6))\n",
        "plt.pie(df_balanced['spam'].value_counts(), labels=['Ham', 'Spam'], autopct='%1.1f%%', colors=['green', 'red'], startangle=90)\n",
        "plt.title('Distribution of Spam and Ham Emails (Pie Chart)')\n",
        "plt.axis('equal')\n",
        "plt.show()"
      ],
      "metadata": {
        "colab": {
          "base_uri": "https://localhost:8080/",
          "height": 521
        },
        "id": "cgA82ENcKUnK",
        "outputId": "fc9fec72-af9b-43c7-a16e-fe87b949a1f1"
      },
      "execution_count": 252,
      "outputs": [
        {
          "output_type": "display_data",
          "data": {
            "text/plain": [
              "<Figure size 600x600 with 1 Axes>"
            ],
            "image/png": "[encoded data removed]"
          },
          "metadata": {}
        }
      ]
    },
    {
      "cell_type": "code",
      "source": [
        "x = df['text'].astype(str)\n",
        "x = x.str.lower()\n",
        "\n",
        "y = df['spam'].astype(float)\n",
        "\n",
        "x.info()\n",
        "print(\"\\n\")\n",
        "y.info()"
      ],
      "metadata": {
        "colab": {
          "base_uri": "https://localhost:8080/"
        },
        "id": "Qkpq51m3MLNO",
        "outputId": "4ea6d3c0-9c91-4da2-9a63-3169284d2b95"
      },
      "execution_count": 253,
      "outputs": [
        {
          "output_type": "stream",
          "name": "stdout",
          "text": [
            "<class 'pandas.core.series.Series'>\n",
            "Index: 5695 entries, 0 to 5727\n",
            "Series name: text\n",
            "Non-Null Count  Dtype \n",
            "--------------  ----- \n",
            "5695 non-null   object\n",
            "dtypes: object(1)\n",
            "memory usage: 89.0+ KB\n",
            "\n",
            "\n",
            "<class 'pandas.core.series.Series'>\n",
            "Index: 5695 entries, 0 to 5727\n",
            "Series name: spam\n",
            "Non-Null Count  Dtype  \n",
            "--------------  -----  \n",
            "5695 non-null   float64\n",
            "dtypes: float64(1)\n",
            "memory usage: 89.0 KB\n"
          ]
        }
      ]
    },
    {
      "cell_type": "code",
      "source": [
        "nltk.download('stopwords')\n",
        "stopwords_id = set(stopwords.words('english'))\n",
        "\n",
        "def remove_stopwords(text):\n",
        "  words = text.split()\n",
        "  filtered_words = [word for word in words if word not in stopwords_id]\n",
        "  return \" \".join(filtered_words)\n",
        "\n",
        "x = x.apply(remove_stopwords)\n",
        "\n",
        "tokenizer = Tokenizer(num_words=10000, oov_token=\"<OOV>\")\n",
        "tokenizer.fit_on_texts(x)\n",
        "x_sequences = tokenizer.texts_to_sequences(x)\n",
        "\n",
        "print(\"\\nAfter stopword removal and re-tokenization:\")\n",
        "x_sequences[0]"
      ],
      "metadata": {
        "colab": {
          "base_uri": "https://localhost:8080/"
        },
        "id": "kSZ8cTzwTczI",
        "outputId": "e1cdd66b-6152-4233-d556-79128cca1bbc"
      },
      "execution_count": 254,
      "outputs": [
        {
          "output_type": "stream",
          "name": "stderr",
          "text": [
            "[nltk_data] Downloading package stopwords to /root/nltk_data...\n",
            "[nltk_data]   Package stopwords is already up-to-date!\n"
          ]
        },
        {
          "output_type": "stream",
          "name": "stdout",
          "text": [
            "\n",
            "After stopword removal and re-tokenization:\n"
          ]
        },
        {
          "output_type": "execute_result",
          "data": {
            "text/plain": [
              "[5,\n",
              " 5669,\n",
              " 1,\n",
              " 411,\n",
              " 1654,\n",
              " 3772,\n",
              " 355,\n",
              " 787,\n",
              " 4273,\n",
              " 52,\n",
              " 61,\n",
              " 299,\n",
              " 6161,\n",
              " 27,\n",
              " 9056,\n",
              " 100,\n",
              " 4383,\n",
              " 724,\n",
              " 5922,\n",
              " 5923,\n",
              " 1559,\n",
              " 201,\n",
              " 65,\n",
              " 2033,\n",
              " 149,\n",
              " 1725,\n",
              " 1873,\n",
              " 7877,\n",
              " 1586,\n",
              " 4168,\n",
              " 52,\n",
              " 1,\n",
              " 572,\n",
              " 302,\n",
              " 5670,\n",
              " 6435,\n",
              " 7878,\n",
              " 379,\n",
              " 100,\n",
              " 252,\n",
              " 760,\n",
              " 34,\n",
              " 739,\n",
              " 4384,\n",
              " 2918,\n",
              " 4514,\n",
              " 4274,\n",
              " 61,\n",
              " 1873,\n",
              " 347,\n",
              " 667,\n",
              " 572,\n",
              " 149,\n",
              " 760,\n",
              " 103,\n",
              " 907,\n",
              " 1165,\n",
              " 4385,\n",
              " 983,\n",
              " 214,\n",
              " 189,\n",
              " 2375,\n",
              " 3406,\n",
              " 452,\n",
              " 1909,\n",
              " 4169,\n",
              " 52,\n",
              " 1138,\n",
              " 1024,\n",
              " 724,\n",
              " 1315,\n",
              " 589,\n",
              " 2433,\n",
              " 720,\n",
              " 97,\n",
              " 573,\n",
              " 60,\n",
              " 168,\n",
              " 4515,\n",
              " 343,\n",
              " 201,\n",
              " 573,\n",
              " 336,\n",
              " 845,\n",
              " 4386,\n",
              " 66,\n",
              " 724,\n",
              " 4052,\n",
              " 178,\n",
              " 396,\n",
              " 34,\n",
              " 196,\n",
              " 4387,\n",
              " 347,\n",
              " 1262,\n",
              " 4,\n",
              " 65,\n",
              " 3618,\n",
              " 1233,\n",
              " 381,\n",
              " 1994,\n",
              " 1166,\n",
              " 170,\n",
              " 1891,\n",
              " 621,\n",
              " 332,\n",
              " 1359,\n",
              " 1926,\n",
              " 4516,\n",
              " 1182,\n",
              " 803,\n",
              " 2270,\n",
              " 88,\n",
              " 577,\n",
              " 137]"
            ]
          },
          "metadata": {},
          "execution_count": 254
        }
      ]
    },
    {
      "cell_type": "code",
      "source": [
        "vectorizer = TfidfVectorizer(max_features=3000)\n",
        "X_tfidf = vectorizer.fit_transform(x)"
      ],
      "metadata": {
        "id": "PZ749LomVF7g"
      },
      "execution_count": 255,
      "outputs": []
    }
  ]
}